{
 "cells": [
  {
   "cell_type": "code",
   "execution_count": 34,
   "id": "44a975ba",
   "metadata": {},
   "outputs": [],
   "source": [
    "import tensorflow as tf\n",
    "from tensorflow.keras.layers import Input, Conv3D, UpSampling3D, Add\n",
    "from tensorflow.keras.models import Model\n",
    "\n",
    "\n",
    "# Clear tensor sessions to free up memory\n",
    "\n",
    "tf.keras.backend.clear_session()\n"
   ]
  },
  {
   "cell_type": "code",
   "execution_count": 35,
   "id": "beea8bbb",
   "metadata": {},
   "outputs": [],
   "source": [
    "import netCDF4 as nc\n",
    "from netCDF4 import num2date\n",
    "import numpy as np\n",
    "\n",
    "# Load the data for both years\n",
    "#data_2020 = nc.Dataset('/Users/heyj/Desktop/sql project/2020data.nc')\n",
    "#data_2021 = nc.Dataset('/Users/heyj/Desktop/sql project/2020data.nc')\n",
    "dataset = nc.Dataset('/Users/heyj/Desktop/ARM/Analogue-Nowcasting-Model/ResNet_V3/Data20_21.nc') #(choose a specific timestamp: 00UTC for each day)\n",
    "\n",
    "\n",
    "times_dataset = dataset['time'][:]\n",
    "dates_dataset = nc.num2date(times_dataset, units=dataset['time'].units)\n",
    "all_dates = dates_dataset\n"
   ]
  },
  {
   "cell_type": "code",
   "execution_count": 36,
   "id": "8826d77c",
   "metadata": {
    "scrolled": true
   },
   "outputs": [
    {
     "name": "stdout",
     "output_type": "stream",
     "text": [
      "dict_keys(['longitude', 'latitude', 'level', 'time', 'z', 'r', 'u', 'v'])\n"
     ]
    }
   ],
   "source": [
    "print(dataset.variables.keys())\n"
   ]
  },
  {
   "cell_type": "code",
   "execution_count": 37,
   "id": "0a6f35e3",
   "metadata": {},
   "outputs": [],
   "source": [
    "# 700r, 850z, 850u, 850v, 925u, 925v\n",
    "r700 = dataset['r'][:,0,:,:]\n",
    "z850 = dataset['z'][:,1,:,:]\n",
    "u850 = dataset['u'][:,1,:,:]\n",
    "v850 = dataset['v'][:,1,:,:]\n",
    "u925 = dataset['u'][:,2,:,:]\n",
    "v925 = dataset['u'][:,2,:,:]"
   ]
  },
  {
   "cell_type": "code",
   "execution_count": 32,
   "id": "9e3629b0",
   "metadata": {
    "scrolled": true
   },
   "outputs": [
    {
     "name": "stdout",
     "output_type": "stream",
     "text": [
      "class:  MaskedArray\n",
      "shape:  (731, 29, 61)\n",
      "strides:  (14152, 488, 8)\n",
      "itemsize:  8\n",
      "aligned:  True\n",
      "contiguous:  True\n",
      "fortran:  False\n",
      "data pointer: 0x7f8865146000\n",
      "byteorder:  little\n",
      "byteswap:  False\n",
      "type: float64\n"
     ]
    }
   ],
   "source": [
    "np.info(r700)"
   ]
  },
  {
   "cell_type": "code",
   "execution_count": 38,
   "id": "59fe9cb8",
   "metadata": {},
   "outputs": [
    {
     "name": "stdout",
     "output_type": "stream",
     "text": [
      "Range of r700: (0.3653841018676758, 112.01492309570312)\n",
      "Range of z850: (14406.385834474615, 15139.173973656401)\n",
      "Range of u850: (-16.829574584960938, 25.113705800722833)\n",
      "Range of v850: (-17.32435415839366, 16.448002542807707)\n",
      "Range of u925: (-16.304343371265926, 22.2310414650944)\n",
      "Range of v925: (-16.304343371265926, 22.2310414650944)\n"
     ]
    }
   ],
   "source": [
    "range_r700 = calculate_range(r700)\n",
    "range_z850 = calculate_range(z850)\n",
    "range_u850 = calculate_range(u850)\n",
    "range_v850 = calculate_range(v850)\n",
    "range_u925 = calculate_range(u925)\n",
    "range_v925 = calculate_range(v925)\n",
    "\n",
    "# Printing the ranges\n",
    "print(\"Range of r700:\", range_r700)\n",
    "print(\"Range of z850:\", range_z850)\n",
    "print(\"Range of u850:\", range_u850)\n",
    "print(\"Range of v850:\", range_v850)\n",
    "print(\"Range of u925:\", range_u925)\n",
    "print(\"Range of v925:\", range_v925)"
   ]
  },
  {
   "cell_type": "code",
   "execution_count": 24,
   "id": "f1e75f6a",
   "metadata": {},
   "outputs": [],
   "source": [
    "# Preprocessing the data\n",
    "\n",
    "# Modified code using StandardScaler for Z-score normalization\n",
    "from sklearn.preprocessing import StandardScaler\n",
    "\n",
    "\n",
    "scaler = StandardScaler()\n",
    "\n",
    "u925_normalized = scaler.fit_transform(u925.reshape(-1, 1)).reshape(u925.shape)\n",
    "v925_normalized = scaler.fit_transform(v925.reshape(-1, 1)).reshape(v925.shape)\n",
    "\n",
    "u850_normalized = scaler.fit_transform(u850.reshape(-1, 1)).reshape(u850.shape)\n",
    "v850_normalized = scaler.fit_transform(v850.reshape(-1, 1)).reshape(v850.shape)\n",
    "z850_normalized = scaler.fit_transform(z850.reshape(-1, 1)).reshape(z850.shape)\n",
    "\n",
    "r700_normalized = scaler.fit_transform(r700.reshape(-1, 1)).reshape(r700.shape)\n",
    "\n",
    "\n",
    "# Combine the parameters to form a single dataset\n",
    "data_combined = np.stack((u925_normalized, v925_normalized, u850_normalized, v850_normalized,z850_normalized,r700_normalized), axis=-1)\n",
    "\n",
    "# Pad the data to get even dimension\n",
    "padded_data = np.pad(data_combined, ((0, 0), (0, 1), (0, 1), (0, 0)), mode='constant')\n",
    "\n",
    "\n",
    "from sklearn.model_selection import train_test_split\n",
    "\n",
    "# Split the data into training and validation sets\n",
    "X_train_padded, X_val_padded = train_test_split(padded_data, test_size=0.3, shuffle=False)\n"
   ]
  },
  {
   "cell_type": "code",
   "execution_count": null,
   "id": "2f3fa785",
   "metadata": {},
   "outputs": [],
   "source": []
  },
  {
   "cell_type": "code",
   "execution_count": 25,
   "id": "1667f57e",
   "metadata": {
    "scrolled": true
   },
   "outputs": [
    {
     "name": "stdout",
     "output_type": "stream",
     "text": [
      "(731, 29, 61)\n"
     ]
    }
   ],
   "source": [
    "print(np.shape(u925))\n",
    "\n"
   ]
  },
  {
   "cell_type": "code",
   "execution_count": 26,
   "id": "c3b5f05f",
   "metadata": {
    "scrolled": true
   },
   "outputs": [
    {
     "name": "stdout",
     "output_type": "stream",
     "text": [
      "[[[0.39164526 0.37893297 0.37249341 ... 0.20493143 0.21025324 0.21227186]\n",
      "  [0.40467452 0.39221247 0.37264356 ... 0.21070368 0.21861132 0.22408328]\n",
      "  [0.3917954  0.39428114 0.38935971 ... 0.21522472 0.22276534 0.23072303]\n",
      "  ...\n",
      "  [0.36635414 0.36924027 0.38246972 ... 0.42576157 0.4285476  0.436205  ]\n",
      "  [0.38288679 0.38637349 0.40077075 ... 0.43421975 0.43650529 0.44511361]\n",
      "  [0.40022021 0.3994528  0.41181475 ... 0.4484168  0.44796637 0.45550699]]\n",
      "\n",
      " [[0.33936138 0.33707584 0.34948784 ... 0.15531681 0.15379867 0.15233059]\n",
      "  [0.34067932 0.33849388 0.33966167 ... 0.16505956 0.15922058 0.15643455]\n",
      "  [0.35527677 0.34933769 0.36181642 ... 0.17098195 0.16312435 0.15998799]\n",
      "  ...\n",
      "  [0.38111841 0.38233626 0.38497214 ... 0.4670348  0.46641754 0.46875313]\n",
      "  [0.38618998 0.3881085  0.3923793  ... 0.48026426 0.47646058 0.47822895]\n",
      "  [0.39049414 0.39318007 0.39835174 ... 0.49739748 0.49247606 0.49257616]]\n",
      "\n",
      " [[0.37449535 0.37277702 0.36984085 ... 0.14642488 0.14403924 0.14322178]\n",
      "  [0.38807514 0.38438824 0.37135898 ... 0.16229021 0.15893697 0.15786927]\n",
      "  [0.3831704  0.38250309 0.38175236 ... 0.18296019 0.17880618 0.17652064]\n",
      "  ...\n",
      "  [0.37794868 0.37859931 0.38215275 ... 0.50030029 0.50719028 0.51479764]\n",
      "  [0.3888926  0.38934303 0.39127824 ... 0.52807714 0.52320577 0.52335591]\n",
      "  [0.40025358 0.40130459 0.40242234 ... 0.55615428 0.54601114 0.54307497]]\n",
      "\n",
      " ...\n",
      "\n",
      " [[0.34708552 0.35914718 0.36643756 ... 0.27243002 0.2717627  0.27126222]\n",
      "  [0.33644189 0.34591772 0.35184011 ... 0.27886957 0.27911982 0.27881953]\n",
      "  [0.3307197  0.34419939 0.36011478 ... 0.27982049 0.28250642 0.28605986]\n",
      "  ...\n",
      "  [0.46908678 0.4566581  0.44885056 ... 0.5047546  0.50512162 0.50860832]\n",
      "  [0.49062427 0.47480898 0.46309766 ... 0.50770745 0.51161122 0.51524807]\n",
      "  [0.51276234 0.49502853 0.48048113 ... 0.51094391 0.51474759 0.52218812]]\n",
      "\n",
      " [[0.41446732 0.41471756 0.40057055 ... 0.15208034 0.155517   0.1545494 ]\n",
      "  [0.42028961 0.42399319 0.40685996 ... 0.16250709 0.16762871 0.16926362]\n",
      "  [0.40337326 0.41533482 0.41943879 ... 0.18105836 0.18476194 0.18552935]\n",
      "  ...\n",
      "  [0.42566147 0.42195789 0.42155751 ... 0.43351907 0.44761603 0.46529979]\n",
      "  [0.44067599 0.43635514 0.43550432 ... 0.44092623 0.45719195 0.47579327]\n",
      "  [0.45080244 0.44719896 0.44558073 ... 0.45273765 0.46636749 0.48425144]]\n",
      "\n",
      " [[0.35634447 0.35726202 0.37276033 ... 0.11037336 0.11149111 0.12056655]\n",
      "  [0.38787495 0.38362083 0.37728137 ... 0.13449668 0.13551433 0.13561443]\n",
      "  [0.41224851 0.4212739  0.42065663 ... 0.1473758  0.15188015 0.149311  ]\n",
      "  ...\n",
      "  [0.5581729  0.55275099 0.54519369 ... 0.49938274 0.50555537 0.50860832]\n",
      "  [0.56040839 0.55441927 0.545861   ... 0.49861533 0.49851523 0.50286944]\n",
      "  [0.56100898 0.55513663 0.54752928 ... 0.50510493 0.49938274 0.49841513]]]\n"
     ]
    }
   ],
   "source": [
    "print(u925_normalized)"
   ]
  },
  {
   "cell_type": "code",
   "execution_count": 7,
   "id": "4c9ebfe5",
   "metadata": {
    "scrolled": true
   },
   "outputs": [
    {
     "data": {
      "text/plain": [
       "(511, 30, 62, 6)"
      ]
     },
     "execution_count": 7,
     "metadata": {},
     "output_type": "execute_result"
    }
   ],
   "source": [
    "X_train_padded.shape"
   ]
  },
  {
   "cell_type": "code",
   "execution_count": 27,
   "id": "2a40dd36",
   "metadata": {
    "scrolled": true
   },
   "outputs": [
    {
     "name": "stdout",
     "output_type": "stream",
     "text": [
      "(30, 62, 6)\n"
     ]
    }
   ],
   "source": [
    "print(X_train_padded[0].shape)\n",
    "input = Input(shape=X_train_padded[0].shape)"
   ]
  },
  {
   "cell_type": "code",
   "execution_count": 28,
   "id": "f49c7977",
   "metadata": {},
   "outputs": [],
   "source": [
    "import tensorflow as tf\n",
    "from tensorflow.keras.layers import Input, Conv2D, UpSampling2D, Add\n",
    "from tensorflow.keras.models import Model, load_model\n",
    "\n",
    "# Define ResNet block\n",
    "def resnet_block(input_tensor, filters, kernel_size=(3, 3), strides=(1, 1)):\n",
    "    x = Conv2D(filters, kernel_size, strides=strides, padding='same')(input_tensor)\n",
    "    x = tf.keras.layers.BatchNormalization()(x)\n",
    "    x = tf.keras.layers.Activation('relu')(x)\n",
    "    \n",
    "    x = Conv2D(filters, kernel_size, padding='same')(x)\n",
    "    x = tf.keras.layers.BatchNormalization()(x)\n",
    "    \n",
    "    # Adjust the shortcut connection\n",
    "    if strides != (1, 1) or input_tensor.shape[-1] != filters:\n",
    "        shortcut = Conv2D(filters, (1, 1), strides=strides, padding='same')(input_tensor)\n",
    "    else:\n",
    "        shortcut = input_tensor\n",
    "    \n",
    "    x = Add()([x, shortcut])\n",
    "    x = tf.keras.layers.Activation('relu')(x)\n",
    "    return x"
   ]
  },
  {
   "cell_type": "code",
   "execution_count": 29,
   "id": "db0a7f98",
   "metadata": {},
   "outputs": [],
   "source": [
    "# Encoder\n",
    "x = resnet_block(input, 32)\n",
    "x = resnet_block(x, 64)\n",
    "x = resnet_block(x, 128)\n",
    "x = resnet_block(x, 256)\n",
    "encoded = resnet_block(x, 256, strides=(2, 2))\n",
    "\n",
    "# Decoder\n",
    "x = UpSampling2D((2, 2))(encoded)\n",
    "x = resnet_block(x, 256)\n",
    "x = UpSampling2D((2, 2))(encoded)\n",
    "x = resnet_block(x, 128)\n",
    "x = UpSampling2D((2, 2))(encoded)\n",
    "x = resnet_block(x, 64)\n",
    "x = UpSampling2D((1, 1))(x)\n",
    "x = resnet_block(x, 32)\n",
    "decoded = Conv2D(6, (3, 3), activation='linear', padding='same')(x)\n",
    "\n",
    "# Compile the autoencoder\n",
    "autoencoder = Model(input, decoded)\n",
    "autoencoder.compile(optimizer='adam', loss='mse', metrics=['accuracy'])"
   ]
  },
  {
   "cell_type": "code",
   "execution_count": 30,
   "id": "d2bf5836",
   "metadata": {},
   "outputs": [
    {
     "name": "stdout",
     "output_type": "stream",
     "text": [
      "Model: \"model_2\"\n",
      "__________________________________________________________________________________________________\n",
      " Layer (type)                Output Shape                 Param #   Connected to                  \n",
      "==================================================================================================\n",
      " input_2 (InputLayer)        [(None, 30, 62, 6)]          0         []                            \n",
      "                                                                                                  \n",
      " conv2d_54 (Conv2D)          (None, 30, 62, 32)           1760      ['input_2[0][0]']             \n",
      "                                                                                                  \n",
      " batch_normalization_36 (Ba  (None, 30, 62, 32)           128       ['conv2d_54[0][0]']           \n",
      " tchNormalization)                                                                                \n",
      "                                                                                                  \n",
      " activation_36 (Activation)  (None, 30, 62, 32)           0         ['batch_normalization_36[0][0]\n",
      "                                                                    ']                            \n",
      "                                                                                                  \n",
      " conv2d_55 (Conv2D)          (None, 30, 62, 32)           9248      ['activation_36[0][0]']       \n",
      "                                                                                                  \n",
      " batch_normalization_37 (Ba  (None, 30, 62, 32)           128       ['conv2d_55[0][0]']           \n",
      " tchNormalization)                                                                                \n",
      "                                                                                                  \n",
      " conv2d_56 (Conv2D)          (None, 30, 62, 32)           224       ['input_2[0][0]']             \n",
      "                                                                                                  \n",
      " add_18 (Add)                (None, 30, 62, 32)           0         ['batch_normalization_37[0][0]\n",
      "                                                                    ',                            \n",
      "                                                                     'conv2d_56[0][0]']           \n",
      "                                                                                                  \n",
      " activation_37 (Activation)  (None, 30, 62, 32)           0         ['add_18[0][0]']              \n",
      "                                                                                                  \n",
      " conv2d_57 (Conv2D)          (None, 30, 62, 64)           18496     ['activation_37[0][0]']       \n",
      "                                                                                                  \n",
      " batch_normalization_38 (Ba  (None, 30, 62, 64)           256       ['conv2d_57[0][0]']           \n",
      " tchNormalization)                                                                                \n",
      "                                                                                                  \n",
      " activation_38 (Activation)  (None, 30, 62, 64)           0         ['batch_normalization_38[0][0]\n",
      "                                                                    ']                            \n",
      "                                                                                                  \n",
      " conv2d_58 (Conv2D)          (None, 30, 62, 64)           36928     ['activation_38[0][0]']       \n",
      "                                                                                                  \n",
      " batch_normalization_39 (Ba  (None, 30, 62, 64)           256       ['conv2d_58[0][0]']           \n",
      " tchNormalization)                                                                                \n",
      "                                                                                                  \n",
      " conv2d_59 (Conv2D)          (None, 30, 62, 64)           2112      ['activation_37[0][0]']       \n",
      "                                                                                                  \n",
      " add_19 (Add)                (None, 30, 62, 64)           0         ['batch_normalization_39[0][0]\n",
      "                                                                    ',                            \n",
      "                                                                     'conv2d_59[0][0]']           \n",
      "                                                                                                  \n",
      " activation_39 (Activation)  (None, 30, 62, 64)           0         ['add_19[0][0]']              \n",
      "                                                                                                  \n",
      " conv2d_60 (Conv2D)          (None, 30, 62, 128)          73856     ['activation_39[0][0]']       \n",
      "                                                                                                  \n",
      " batch_normalization_40 (Ba  (None, 30, 62, 128)          512       ['conv2d_60[0][0]']           \n",
      " tchNormalization)                                                                                \n",
      "                                                                                                  \n",
      " activation_40 (Activation)  (None, 30, 62, 128)          0         ['batch_normalization_40[0][0]\n",
      "                                                                    ']                            \n",
      "                                                                                                  \n",
      " conv2d_61 (Conv2D)          (None, 30, 62, 128)          147584    ['activation_40[0][0]']       \n",
      "                                                                                                  \n",
      " batch_normalization_41 (Ba  (None, 30, 62, 128)          512       ['conv2d_61[0][0]']           \n",
      " tchNormalization)                                                                                \n",
      "                                                                                                  \n",
      " conv2d_62 (Conv2D)          (None, 30, 62, 128)          8320      ['activation_39[0][0]']       \n",
      "                                                                                                  \n",
      " add_20 (Add)                (None, 30, 62, 128)          0         ['batch_normalization_41[0][0]\n",
      "                                                                    ',                            \n",
      "                                                                     'conv2d_62[0][0]']           \n",
      "                                                                                                  \n",
      " activation_41 (Activation)  (None, 30, 62, 128)          0         ['add_20[0][0]']              \n",
      "                                                                                                  \n",
      " conv2d_63 (Conv2D)          (None, 30, 62, 256)          295168    ['activation_41[0][0]']       \n",
      "                                                                                                  \n",
      " batch_normalization_42 (Ba  (None, 30, 62, 256)          1024      ['conv2d_63[0][0]']           \n",
      " tchNormalization)                                                                                \n",
      "                                                                                                  \n",
      " activation_42 (Activation)  (None, 30, 62, 256)          0         ['batch_normalization_42[0][0]\n",
      "                                                                    ']                            \n",
      "                                                                                                  \n",
      " conv2d_64 (Conv2D)          (None, 30, 62, 256)          590080    ['activation_42[0][0]']       \n",
      "                                                                                                  \n",
      " batch_normalization_43 (Ba  (None, 30, 62, 256)          1024      ['conv2d_64[0][0]']           \n",
      " tchNormalization)                                                                                \n",
      "                                                                                                  \n",
      " conv2d_65 (Conv2D)          (None, 30, 62, 256)          33024     ['activation_41[0][0]']       \n",
      "                                                                                                  \n"
     ]
    },
    {
     "name": "stdout",
     "output_type": "stream",
     "text": [
      " add_21 (Add)                (None, 30, 62, 256)          0         ['batch_normalization_43[0][0]\n",
      "                                                                    ',                            \n",
      "                                                                     'conv2d_65[0][0]']           \n",
      "                                                                                                  \n",
      " activation_43 (Activation)  (None, 30, 62, 256)          0         ['add_21[0][0]']              \n",
      "                                                                                                  \n",
      " conv2d_66 (Conv2D)          (None, 15, 31, 256)          590080    ['activation_43[0][0]']       \n",
      "                                                                                                  \n",
      " batch_normalization_44 (Ba  (None, 15, 31, 256)          1024      ['conv2d_66[0][0]']           \n",
      " tchNormalization)                                                                                \n",
      "                                                                                                  \n",
      " activation_44 (Activation)  (None, 15, 31, 256)          0         ['batch_normalization_44[0][0]\n",
      "                                                                    ']                            \n",
      "                                                                                                  \n",
      " conv2d_67 (Conv2D)          (None, 15, 31, 256)          590080    ['activation_44[0][0]']       \n",
      "                                                                                                  \n",
      " batch_normalization_45 (Ba  (None, 15, 31, 256)          1024      ['conv2d_67[0][0]']           \n",
      " tchNormalization)                                                                                \n",
      "                                                                                                  \n",
      " conv2d_68 (Conv2D)          (None, 15, 31, 256)          65792     ['activation_43[0][0]']       \n",
      "                                                                                                  \n",
      " add_22 (Add)                (None, 15, 31, 256)          0         ['batch_normalization_45[0][0]\n",
      "                                                                    ',                            \n",
      "                                                                     'conv2d_68[0][0]']           \n",
      "                                                                                                  \n",
      " activation_45 (Activation)  (None, 15, 31, 256)          0         ['add_22[0][0]']              \n",
      "                                                                                                  \n",
      " up_sampling2d_10 (UpSampli  (None, 30, 62, 256)          0         ['activation_45[0][0]']       \n",
      " ng2D)                                                                                            \n",
      "                                                                                                  \n",
      " conv2d_74 (Conv2D)          (None, 30, 62, 64)           147520    ['up_sampling2d_10[0][0]']    \n",
      "                                                                                                  \n",
      " batch_normalization_50 (Ba  (None, 30, 62, 64)           256       ['conv2d_74[0][0]']           \n",
      " tchNormalization)                                                                                \n",
      "                                                                                                  \n",
      " activation_50 (Activation)  (None, 30, 62, 64)           0         ['batch_normalization_50[0][0]\n",
      "                                                                    ']                            \n",
      "                                                                                                  \n",
      " conv2d_75 (Conv2D)          (None, 30, 62, 64)           36928     ['activation_50[0][0]']       \n",
      "                                                                                                  \n",
      " batch_normalization_51 (Ba  (None, 30, 62, 64)           256       ['conv2d_75[0][0]']           \n",
      " tchNormalization)                                                                                \n",
      "                                                                                                  \n",
      " conv2d_76 (Conv2D)          (None, 30, 62, 64)           16448     ['up_sampling2d_10[0][0]']    \n",
      "                                                                                                  \n",
      " add_25 (Add)                (None, 30, 62, 64)           0         ['batch_normalization_51[0][0]\n",
      "                                                                    ',                            \n",
      "                                                                     'conv2d_76[0][0]']           \n",
      "                                                                                                  \n",
      " activation_51 (Activation)  (None, 30, 62, 64)           0         ['add_25[0][0]']              \n",
      "                                                                                                  \n",
      " up_sampling2d_11 (UpSampli  (None, 30, 62, 64)           0         ['activation_51[0][0]']       \n",
      " ng2D)                                                                                            \n",
      "                                                                                                  \n",
      " conv2d_77 (Conv2D)          (None, 30, 62, 32)           18464     ['up_sampling2d_11[0][0]']    \n",
      "                                                                                                  \n",
      " batch_normalization_52 (Ba  (None, 30, 62, 32)           128       ['conv2d_77[0][0]']           \n",
      " tchNormalization)                                                                                \n",
      "                                                                                                  \n",
      " activation_52 (Activation)  (None, 30, 62, 32)           0         ['batch_normalization_52[0][0]\n",
      "                                                                    ']                            \n",
      "                                                                                                  \n",
      " conv2d_78 (Conv2D)          (None, 30, 62, 32)           9248      ['activation_52[0][0]']       \n",
      "                                                                                                  \n",
      " batch_normalization_53 (Ba  (None, 30, 62, 32)           128       ['conv2d_78[0][0]']           \n",
      " tchNormalization)                                                                                \n",
      "                                                                                                  \n",
      " conv2d_79 (Conv2D)          (None, 30, 62, 32)           2080      ['up_sampling2d_11[0][0]']    \n",
      "                                                                                                  \n",
      " add_26 (Add)                (None, 30, 62, 32)           0         ['batch_normalization_53[0][0]\n",
      "                                                                    ',                            \n",
      "                                                                     'conv2d_79[0][0]']           \n",
      "                                                                                                  \n",
      " activation_53 (Activation)  (None, 30, 62, 32)           0         ['add_26[0][0]']              \n",
      "                                                                                                  \n",
      " conv2d_80 (Conv2D)          (None, 30, 62, 6)            1734      ['activation_53[0][0]']       \n",
      "                                                                                                  \n",
      "==================================================================================================\n",
      "Total params: 2701830 (10.31 MB)\n",
      "Trainable params: 2698502 (10.29 MB)\n",
      "Non-trainable params: 3328 (13.00 KB)\n",
      "__________________________________________________________________________________________________\n"
     ]
    }
   ],
   "source": [
    "autoencoder.summary()"
   ]
  },
  {
   "cell_type": "code",
   "execution_count": 31,
   "id": "0a7cefb3",
   "metadata": {
    "scrolled": true
   },
   "outputs": [
    {
     "name": "stdout",
     "output_type": "stream",
     "text": [
      "Epoch 1/20\n",
      "16/16 [==============================] - 129s 8s/step - loss: 0.3381 - accuracy: 0.3832 - val_loss: 1.5622 - val_accuracy: 0.0302\n",
      "Epoch 2/20\n",
      "16/16 [==============================] - 122s 8s/step - loss: 0.0208 - accuracy: 0.6237 - val_loss: 0.1149 - val_accuracy: 0.1586\n",
      "Epoch 3/20\n",
      "16/16 [==============================] - 106s 7s/step - loss: 0.0118 - accuracy: 0.6942 - val_loss: 0.0744 - val_accuracy: 0.5954\n",
      "Epoch 4/20\n"
     ]
    },
    {
     "ename": "KeyboardInterrupt",
     "evalue": "",
     "output_type": "error",
     "traceback": [
      "\u001b[0;31m---------------------------------------------------------------------------\u001b[0m",
      "\u001b[0;31mKeyboardInterrupt\u001b[0m                         Traceback (most recent call last)",
      "Cell \u001b[0;32mIn[31], line 2\u001b[0m\n\u001b[1;32m      1\u001b[0m \u001b[38;5;66;03m# Train the model \u001b[39;00m\n\u001b[0;32m----> 2\u001b[0m history \u001b[38;5;241m=\u001b[39m autoencoder\u001b[38;5;241m.\u001b[39mfit(X_train_padded, X_train_padded, epochs\u001b[38;5;241m=\u001b[39m\u001b[38;5;241m20\u001b[39m, batch_size\u001b[38;5;241m=\u001b[39m\u001b[38;5;241m32\u001b[39m, validation_data\u001b[38;5;241m=\u001b[39m(X_val_padded, X_val_padded))\n",
      "File \u001b[0;32m~/anaconda3/lib/python3.11/site-packages/keras/src/utils/traceback_utils.py:65\u001b[0m, in \u001b[0;36mfilter_traceback.<locals>.error_handler\u001b[0;34m(*args, **kwargs)\u001b[0m\n\u001b[1;32m     63\u001b[0m filtered_tb \u001b[38;5;241m=\u001b[39m \u001b[38;5;28;01mNone\u001b[39;00m\n\u001b[1;32m     64\u001b[0m \u001b[38;5;28;01mtry\u001b[39;00m:\n\u001b[0;32m---> 65\u001b[0m     \u001b[38;5;28;01mreturn\u001b[39;00m fn(\u001b[38;5;241m*\u001b[39margs, \u001b[38;5;241m*\u001b[39m\u001b[38;5;241m*\u001b[39mkwargs)\n\u001b[1;32m     66\u001b[0m \u001b[38;5;28;01mexcept\u001b[39;00m \u001b[38;5;167;01mException\u001b[39;00m \u001b[38;5;28;01mas\u001b[39;00m e:\n\u001b[1;32m     67\u001b[0m     filtered_tb \u001b[38;5;241m=\u001b[39m _process_traceback_frames(e\u001b[38;5;241m.\u001b[39m__traceback__)\n",
      "File \u001b[0;32m~/anaconda3/lib/python3.11/site-packages/keras/src/engine/training.py:1783\u001b[0m, in \u001b[0;36mModel.fit\u001b[0;34m(self, x, y, batch_size, epochs, verbose, callbacks, validation_split, validation_data, shuffle, class_weight, sample_weight, initial_epoch, steps_per_epoch, validation_steps, validation_batch_size, validation_freq, max_queue_size, workers, use_multiprocessing)\u001b[0m\n\u001b[1;32m   1775\u001b[0m \u001b[38;5;28;01mwith\u001b[39;00m tf\u001b[38;5;241m.\u001b[39mprofiler\u001b[38;5;241m.\u001b[39mexperimental\u001b[38;5;241m.\u001b[39mTrace(\n\u001b[1;32m   1776\u001b[0m     \u001b[38;5;124m\"\u001b[39m\u001b[38;5;124mtrain\u001b[39m\u001b[38;5;124m\"\u001b[39m,\n\u001b[1;32m   1777\u001b[0m     epoch_num\u001b[38;5;241m=\u001b[39mepoch,\n\u001b[0;32m   (...)\u001b[0m\n\u001b[1;32m   1780\u001b[0m     _r\u001b[38;5;241m=\u001b[39m\u001b[38;5;241m1\u001b[39m,\n\u001b[1;32m   1781\u001b[0m ):\n\u001b[1;32m   1782\u001b[0m     callbacks\u001b[38;5;241m.\u001b[39mon_train_batch_begin(step)\n\u001b[0;32m-> 1783\u001b[0m     tmp_logs \u001b[38;5;241m=\u001b[39m \u001b[38;5;28mself\u001b[39m\u001b[38;5;241m.\u001b[39mtrain_function(iterator)\n\u001b[1;32m   1784\u001b[0m     \u001b[38;5;28;01mif\u001b[39;00m data_handler\u001b[38;5;241m.\u001b[39mshould_sync:\n\u001b[1;32m   1785\u001b[0m         context\u001b[38;5;241m.\u001b[39masync_wait()\n",
      "File \u001b[0;32m~/anaconda3/lib/python3.11/site-packages/tensorflow/python/util/traceback_utils.py:150\u001b[0m, in \u001b[0;36mfilter_traceback.<locals>.error_handler\u001b[0;34m(*args, **kwargs)\u001b[0m\n\u001b[1;32m    148\u001b[0m filtered_tb \u001b[38;5;241m=\u001b[39m \u001b[38;5;28;01mNone\u001b[39;00m\n\u001b[1;32m    149\u001b[0m \u001b[38;5;28;01mtry\u001b[39;00m:\n\u001b[0;32m--> 150\u001b[0m   \u001b[38;5;28;01mreturn\u001b[39;00m fn(\u001b[38;5;241m*\u001b[39margs, \u001b[38;5;241m*\u001b[39m\u001b[38;5;241m*\u001b[39mkwargs)\n\u001b[1;32m    151\u001b[0m \u001b[38;5;28;01mexcept\u001b[39;00m \u001b[38;5;167;01mException\u001b[39;00m \u001b[38;5;28;01mas\u001b[39;00m e:\n\u001b[1;32m    152\u001b[0m   filtered_tb \u001b[38;5;241m=\u001b[39m _process_traceback_frames(e\u001b[38;5;241m.\u001b[39m__traceback__)\n",
      "File \u001b[0;32m~/anaconda3/lib/python3.11/site-packages/tensorflow/python/eager/polymorphic_function/polymorphic_function.py:831\u001b[0m, in \u001b[0;36mFunction.__call__\u001b[0;34m(self, *args, **kwds)\u001b[0m\n\u001b[1;32m    828\u001b[0m compiler \u001b[38;5;241m=\u001b[39m \u001b[38;5;124m\"\u001b[39m\u001b[38;5;124mxla\u001b[39m\u001b[38;5;124m\"\u001b[39m \u001b[38;5;28;01mif\u001b[39;00m \u001b[38;5;28mself\u001b[39m\u001b[38;5;241m.\u001b[39m_jit_compile \u001b[38;5;28;01melse\u001b[39;00m \u001b[38;5;124m\"\u001b[39m\u001b[38;5;124mnonXla\u001b[39m\u001b[38;5;124m\"\u001b[39m\n\u001b[1;32m    830\u001b[0m \u001b[38;5;28;01mwith\u001b[39;00m OptionalXlaContext(\u001b[38;5;28mself\u001b[39m\u001b[38;5;241m.\u001b[39m_jit_compile):\n\u001b[0;32m--> 831\u001b[0m   result \u001b[38;5;241m=\u001b[39m \u001b[38;5;28mself\u001b[39m\u001b[38;5;241m.\u001b[39m_call(\u001b[38;5;241m*\u001b[39margs, \u001b[38;5;241m*\u001b[39m\u001b[38;5;241m*\u001b[39mkwds)\n\u001b[1;32m    833\u001b[0m new_tracing_count \u001b[38;5;241m=\u001b[39m \u001b[38;5;28mself\u001b[39m\u001b[38;5;241m.\u001b[39mexperimental_get_tracing_count()\n\u001b[1;32m    834\u001b[0m without_tracing \u001b[38;5;241m=\u001b[39m (tracing_count \u001b[38;5;241m==\u001b[39m new_tracing_count)\n",
      "File \u001b[0;32m~/anaconda3/lib/python3.11/site-packages/tensorflow/python/eager/polymorphic_function/polymorphic_function.py:867\u001b[0m, in \u001b[0;36mFunction._call\u001b[0;34m(self, *args, **kwds)\u001b[0m\n\u001b[1;32m    864\u001b[0m   \u001b[38;5;28mself\u001b[39m\u001b[38;5;241m.\u001b[39m_lock\u001b[38;5;241m.\u001b[39mrelease()\n\u001b[1;32m    865\u001b[0m   \u001b[38;5;66;03m# In this case we have created variables on the first call, so we run the\u001b[39;00m\n\u001b[1;32m    866\u001b[0m   \u001b[38;5;66;03m# defunned version which is guaranteed to never create variables.\u001b[39;00m\n\u001b[0;32m--> 867\u001b[0m   \u001b[38;5;28;01mreturn\u001b[39;00m tracing_compilation\u001b[38;5;241m.\u001b[39mcall_function(\n\u001b[1;32m    868\u001b[0m       args, kwds, \u001b[38;5;28mself\u001b[39m\u001b[38;5;241m.\u001b[39m_no_variable_creation_config\n\u001b[1;32m    869\u001b[0m   )\n\u001b[1;32m    870\u001b[0m \u001b[38;5;28;01melif\u001b[39;00m \u001b[38;5;28mself\u001b[39m\u001b[38;5;241m.\u001b[39m_variable_creation_config \u001b[38;5;129;01mis\u001b[39;00m \u001b[38;5;129;01mnot\u001b[39;00m \u001b[38;5;28;01mNone\u001b[39;00m:\n\u001b[1;32m    871\u001b[0m   \u001b[38;5;66;03m# Release the lock early so that multiple threads can perform the call\u001b[39;00m\n\u001b[1;32m    872\u001b[0m   \u001b[38;5;66;03m# in parallel.\u001b[39;00m\n\u001b[1;32m    873\u001b[0m   \u001b[38;5;28mself\u001b[39m\u001b[38;5;241m.\u001b[39m_lock\u001b[38;5;241m.\u001b[39mrelease()\n",
      "File \u001b[0;32m~/anaconda3/lib/python3.11/site-packages/tensorflow/python/eager/polymorphic_function/tracing_compilation.py:139\u001b[0m, in \u001b[0;36mcall_function\u001b[0;34m(args, kwargs, tracing_options)\u001b[0m\n\u001b[1;32m    137\u001b[0m bound_args \u001b[38;5;241m=\u001b[39m function\u001b[38;5;241m.\u001b[39mfunction_type\u001b[38;5;241m.\u001b[39mbind(\u001b[38;5;241m*\u001b[39margs, \u001b[38;5;241m*\u001b[39m\u001b[38;5;241m*\u001b[39mkwargs)\n\u001b[1;32m    138\u001b[0m flat_inputs \u001b[38;5;241m=\u001b[39m function\u001b[38;5;241m.\u001b[39mfunction_type\u001b[38;5;241m.\u001b[39munpack_inputs(bound_args)\n\u001b[0;32m--> 139\u001b[0m \u001b[38;5;28;01mreturn\u001b[39;00m function\u001b[38;5;241m.\u001b[39m_call_flat(  \u001b[38;5;66;03m# pylint: disable=protected-access\u001b[39;00m\n\u001b[1;32m    140\u001b[0m     flat_inputs, captured_inputs\u001b[38;5;241m=\u001b[39mfunction\u001b[38;5;241m.\u001b[39mcaptured_inputs\n\u001b[1;32m    141\u001b[0m )\n",
      "File \u001b[0;32m~/anaconda3/lib/python3.11/site-packages/tensorflow/python/eager/polymorphic_function/concrete_function.py:1264\u001b[0m, in \u001b[0;36mConcreteFunction._call_flat\u001b[0;34m(self, tensor_inputs, captured_inputs)\u001b[0m\n\u001b[1;32m   1260\u001b[0m possible_gradient_type \u001b[38;5;241m=\u001b[39m gradients_util\u001b[38;5;241m.\u001b[39mPossibleTapeGradientTypes(args)\n\u001b[1;32m   1261\u001b[0m \u001b[38;5;28;01mif\u001b[39;00m (possible_gradient_type \u001b[38;5;241m==\u001b[39m gradients_util\u001b[38;5;241m.\u001b[39mPOSSIBLE_GRADIENT_TYPES_NONE\n\u001b[1;32m   1262\u001b[0m     \u001b[38;5;129;01mand\u001b[39;00m executing_eagerly):\n\u001b[1;32m   1263\u001b[0m   \u001b[38;5;66;03m# No tape is watching; skip to running the function.\u001b[39;00m\n\u001b[0;32m-> 1264\u001b[0m   \u001b[38;5;28;01mreturn\u001b[39;00m \u001b[38;5;28mself\u001b[39m\u001b[38;5;241m.\u001b[39m_inference_function\u001b[38;5;241m.\u001b[39mflat_call(args)\n\u001b[1;32m   1265\u001b[0m forward_backward \u001b[38;5;241m=\u001b[39m \u001b[38;5;28mself\u001b[39m\u001b[38;5;241m.\u001b[39m_select_forward_and_backward_functions(\n\u001b[1;32m   1266\u001b[0m     args,\n\u001b[1;32m   1267\u001b[0m     possible_gradient_type,\n\u001b[1;32m   1268\u001b[0m     executing_eagerly)\n\u001b[1;32m   1269\u001b[0m forward_function, args_with_tangents \u001b[38;5;241m=\u001b[39m forward_backward\u001b[38;5;241m.\u001b[39mforward()\n",
      "File \u001b[0;32m~/anaconda3/lib/python3.11/site-packages/tensorflow/python/eager/polymorphic_function/atomic_function.py:217\u001b[0m, in \u001b[0;36mAtomicFunction.flat_call\u001b[0;34m(self, args)\u001b[0m\n\u001b[1;32m    215\u001b[0m \u001b[38;5;28;01mdef\u001b[39;00m \u001b[38;5;21mflat_call\u001b[39m(\u001b[38;5;28mself\u001b[39m, args: Sequence[core\u001b[38;5;241m.\u001b[39mTensor]) \u001b[38;5;241m-\u001b[39m\u001b[38;5;241m>\u001b[39m Any:\n\u001b[1;32m    216\u001b[0m \u001b[38;5;250m  \u001b[39m\u001b[38;5;124;03m\"\"\"Calls with tensor inputs and returns the structured output.\"\"\"\u001b[39;00m\n\u001b[0;32m--> 217\u001b[0m   flat_outputs \u001b[38;5;241m=\u001b[39m \u001b[38;5;28mself\u001b[39m(\u001b[38;5;241m*\u001b[39margs)\n\u001b[1;32m    218\u001b[0m   \u001b[38;5;28;01mreturn\u001b[39;00m \u001b[38;5;28mself\u001b[39m\u001b[38;5;241m.\u001b[39mfunction_type\u001b[38;5;241m.\u001b[39mpack_output(flat_outputs)\n",
      "File \u001b[0;32m~/anaconda3/lib/python3.11/site-packages/tensorflow/python/eager/polymorphic_function/atomic_function.py:252\u001b[0m, in \u001b[0;36mAtomicFunction.__call__\u001b[0;34m(self, *args)\u001b[0m\n\u001b[1;32m    250\u001b[0m \u001b[38;5;28;01mwith\u001b[39;00m record\u001b[38;5;241m.\u001b[39mstop_recording():\n\u001b[1;32m    251\u001b[0m   \u001b[38;5;28;01mif\u001b[39;00m \u001b[38;5;28mself\u001b[39m\u001b[38;5;241m.\u001b[39m_bound_context\u001b[38;5;241m.\u001b[39mexecuting_eagerly():\n\u001b[0;32m--> 252\u001b[0m     outputs \u001b[38;5;241m=\u001b[39m \u001b[38;5;28mself\u001b[39m\u001b[38;5;241m.\u001b[39m_bound_context\u001b[38;5;241m.\u001b[39mcall_function(\n\u001b[1;32m    253\u001b[0m         \u001b[38;5;28mself\u001b[39m\u001b[38;5;241m.\u001b[39mname,\n\u001b[1;32m    254\u001b[0m         \u001b[38;5;28mlist\u001b[39m(args),\n\u001b[1;32m    255\u001b[0m         \u001b[38;5;28mlen\u001b[39m(\u001b[38;5;28mself\u001b[39m\u001b[38;5;241m.\u001b[39mfunction_type\u001b[38;5;241m.\u001b[39mflat_outputs),\n\u001b[1;32m    256\u001b[0m     )\n\u001b[1;32m    257\u001b[0m   \u001b[38;5;28;01melse\u001b[39;00m:\n\u001b[1;32m    258\u001b[0m     outputs \u001b[38;5;241m=\u001b[39m make_call_op_in_graph(\n\u001b[1;32m    259\u001b[0m         \u001b[38;5;28mself\u001b[39m,\n\u001b[1;32m    260\u001b[0m         \u001b[38;5;28mlist\u001b[39m(args),\n\u001b[1;32m    261\u001b[0m         \u001b[38;5;28mself\u001b[39m\u001b[38;5;241m.\u001b[39m_bound_context\u001b[38;5;241m.\u001b[39mfunction_call_options\u001b[38;5;241m.\u001b[39mas_attrs(),\n\u001b[1;32m    262\u001b[0m     )\n",
      "File \u001b[0;32m~/anaconda3/lib/python3.11/site-packages/tensorflow/python/eager/context.py:1479\u001b[0m, in \u001b[0;36mContext.call_function\u001b[0;34m(self, name, tensor_inputs, num_outputs)\u001b[0m\n\u001b[1;32m   1477\u001b[0m cancellation_context \u001b[38;5;241m=\u001b[39m cancellation\u001b[38;5;241m.\u001b[39mcontext()\n\u001b[1;32m   1478\u001b[0m \u001b[38;5;28;01mif\u001b[39;00m cancellation_context \u001b[38;5;129;01mis\u001b[39;00m \u001b[38;5;28;01mNone\u001b[39;00m:\n\u001b[0;32m-> 1479\u001b[0m   outputs \u001b[38;5;241m=\u001b[39m execute\u001b[38;5;241m.\u001b[39mexecute(\n\u001b[1;32m   1480\u001b[0m       name\u001b[38;5;241m.\u001b[39mdecode(\u001b[38;5;124m\"\u001b[39m\u001b[38;5;124mutf-8\u001b[39m\u001b[38;5;124m\"\u001b[39m),\n\u001b[1;32m   1481\u001b[0m       num_outputs\u001b[38;5;241m=\u001b[39mnum_outputs,\n\u001b[1;32m   1482\u001b[0m       inputs\u001b[38;5;241m=\u001b[39mtensor_inputs,\n\u001b[1;32m   1483\u001b[0m       attrs\u001b[38;5;241m=\u001b[39mattrs,\n\u001b[1;32m   1484\u001b[0m       ctx\u001b[38;5;241m=\u001b[39m\u001b[38;5;28mself\u001b[39m,\n\u001b[1;32m   1485\u001b[0m   )\n\u001b[1;32m   1486\u001b[0m \u001b[38;5;28;01melse\u001b[39;00m:\n\u001b[1;32m   1487\u001b[0m   outputs \u001b[38;5;241m=\u001b[39m execute\u001b[38;5;241m.\u001b[39mexecute_with_cancellation(\n\u001b[1;32m   1488\u001b[0m       name\u001b[38;5;241m.\u001b[39mdecode(\u001b[38;5;124m\"\u001b[39m\u001b[38;5;124mutf-8\u001b[39m\u001b[38;5;124m\"\u001b[39m),\n\u001b[1;32m   1489\u001b[0m       num_outputs\u001b[38;5;241m=\u001b[39mnum_outputs,\n\u001b[0;32m   (...)\u001b[0m\n\u001b[1;32m   1493\u001b[0m       cancellation_manager\u001b[38;5;241m=\u001b[39mcancellation_context,\n\u001b[1;32m   1494\u001b[0m   )\n",
      "File \u001b[0;32m~/anaconda3/lib/python3.11/site-packages/tensorflow/python/eager/execute.py:60\u001b[0m, in \u001b[0;36mquick_execute\u001b[0;34m(op_name, num_outputs, inputs, attrs, ctx, name)\u001b[0m\n\u001b[1;32m     53\u001b[0m   \u001b[38;5;66;03m# Convert any objects of type core_types.Tensor to Tensor.\u001b[39;00m\n\u001b[1;32m     54\u001b[0m   inputs \u001b[38;5;241m=\u001b[39m [\n\u001b[1;32m     55\u001b[0m       tensor_conversion_registry\u001b[38;5;241m.\u001b[39mconvert(t)\n\u001b[1;32m     56\u001b[0m       \u001b[38;5;28;01mif\u001b[39;00m \u001b[38;5;28misinstance\u001b[39m(t, core_types\u001b[38;5;241m.\u001b[39mTensor)\n\u001b[1;32m     57\u001b[0m       \u001b[38;5;28;01melse\u001b[39;00m t\n\u001b[1;32m     58\u001b[0m       \u001b[38;5;28;01mfor\u001b[39;00m t \u001b[38;5;129;01min\u001b[39;00m inputs\n\u001b[1;32m     59\u001b[0m   ]\n\u001b[0;32m---> 60\u001b[0m   tensors \u001b[38;5;241m=\u001b[39m pywrap_tfe\u001b[38;5;241m.\u001b[39mTFE_Py_Execute(ctx\u001b[38;5;241m.\u001b[39m_handle, device_name, op_name,\n\u001b[1;32m     61\u001b[0m                                       inputs, attrs, num_outputs)\n\u001b[1;32m     62\u001b[0m \u001b[38;5;28;01mexcept\u001b[39;00m core\u001b[38;5;241m.\u001b[39m_NotOkStatusException \u001b[38;5;28;01mas\u001b[39;00m e:\n\u001b[1;32m     63\u001b[0m   \u001b[38;5;28;01mif\u001b[39;00m name \u001b[38;5;129;01mis\u001b[39;00m \u001b[38;5;129;01mnot\u001b[39;00m \u001b[38;5;28;01mNone\u001b[39;00m:\n",
      "\u001b[0;31mKeyboardInterrupt\u001b[0m: "
     ]
    }
   ],
   "source": [
    "# Train the model \n",
    "history = autoencoder.fit(X_train_padded, X_train_padded, epochs=20, batch_size=32, validation_data=(X_val_padded, X_val_padded))"
   ]
  },
  {
   "cell_type": "code",
   "execution_count": 14,
   "id": "cdfb86d2",
   "metadata": {},
   "outputs": [
    {
     "name": "stdout",
     "output_type": "stream",
     "text": [
      "7/7 [==============================] - 11s 1s/step\n",
      "Mean Squared Error: 0.4601659701685599\n",
      "Mean Absolute Error: 0.4382819244608609\n"
     ]
    }
   ],
   "source": [
    "from sklearn.metrics import mean_squared_error, mean_absolute_error\n",
    "\n",
    "decoded_val = autoencoder.predict(X_val_padded)\n",
    "\n",
    "# Mean Squared Error (MSE)\n",
    "mse = mean_squared_error(X_val_padded.flatten(), decoded_val.flatten())\n",
    "\n",
    "# Mean Absolute Error (MAE)\n",
    "mae = mean_absolute_error(X_val_padded.flatten(), decoded_val.flatten())\n",
    "\n",
    "print(\"Mean Squared Error:\", mse)\n",
    "print(\"Mean Absolute Error:\", mae)"
   ]
  },
  {
   "cell_type": "code",
   "execution_count": null,
   "id": "51d12536",
   "metadata": {},
   "outputs": [],
   "source": []
  }
 ],
 "metadata": {
  "kernelspec": {
   "display_name": "Python 3 (ipykernel)",
   "language": "python",
   "name": "python3"
  },
  "language_info": {
   "codemirror_mode": {
    "name": "ipython",
    "version": 3
   },
   "file_extension": ".py",
   "mimetype": "text/x-python",
   "name": "python",
   "nbconvert_exporter": "python",
   "pygments_lexer": "ipython3",
   "version": "3.11.5"
  }
 },
 "nbformat": 4,
 "nbformat_minor": 5
}
